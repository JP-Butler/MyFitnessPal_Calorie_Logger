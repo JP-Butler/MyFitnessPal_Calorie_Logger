{
 "cells": [
  {
   "cell_type": "code",
   "execution_count": null,
   "id": "154c8275",
   "metadata": {},
   "outputs": [],
   "source": [
    "import myfitnesspal\n",
    "import pandas as pd\n",
    "from datetime import date, timedelta\n",
    "\n",
    "# ---- CONFIG ----\n",
    "USERNAME = \"your_username\"\n",
    "PASSWORD = \"your_password\"\n",
    "DAYS_TO_PULL = 30  # how many past days to fetch\n",
    "OUTPUT_FILE = \"myfitnesspal_calories.xlsx\"\n",
    "\n",
    "# ---- LOGIN ----\n",
    "client = myfitnesspal.Client(USERNAME, PASSWORD)\n",
    "\n",
    "# ---- GET CALORIES ----\n",
    "data = []\n",
    "today = date.today()\n",
    "\n",
    "for i in range(DAYS_TO_PULL):\n",
    "    day = today - timedelta(days=i)\n",
    "    diary = client.get_date(day.year, day.month, day.day)\n",
    "    total_calories = diary.totals.get(\"calories\", 0)\n",
    "    data.append({\"Date\": day.strftime(\"%Y-%m-%d\"), \"Calories\": total_calories})\n",
    "\n",
    "# ---- SAVE TO EXCEL ----\n",
    "df = pd.DataFrame(data)\n",
    "df.sort_values(\"Date\", inplace=True)  # put in chronological order\n",
    "df.to_excel(OUTPUT_FILE, index=False)\n",
    "\n",
    "print(f\"✅ Saved {len(df)} days of calorie data to {OUTPUT_FILE}\")\n"
   ]
  },
  {
   "cell_type": "code",
   "execution_count": null,
   "id": "feedf4ff",
   "metadata": {},
   "outputs": [],
   "source": []
  }
 ],
 "metadata": {
  "language_info": {
   "name": "python"
  }
 },
 "nbformat": 4,
 "nbformat_minor": 5
}
