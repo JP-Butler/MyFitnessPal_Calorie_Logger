{
 "cells": [
  {
   "cell_type": "code",
   "execution_count": 4,
   "id": "154c8275",
   "metadata": {},
   "outputs": [],
   "source": [
    "# Imports needed to run script\n",
    "\n",
    "import myfitnesspal\n",
    "import pandas as pd\n",
    "import config\n",
    "from datetime import date, timedelta\n"
   ]
  },
  {
   "cell_type": "code",
   "execution_count": 5,
   "id": "feedf4ff",
   "metadata": {},
   "outputs": [
    {
     "ename": "AttributeError",
     "evalue": "module 'config' has no attribute 'USERNAME'",
     "output_type": "error",
     "traceback": [
      "\u001b[1;31m---------------------------------------------------------------------------\u001b[0m",
      "\u001b[1;31mAttributeError\u001b[0m                            Traceback (most recent call last)",
      "Cell \u001b[1;32mIn[5], line 6\u001b[0m\n\u001b[0;32m      3\u001b[0m OUTPUT_FILE \u001b[38;5;241m=\u001b[39m \u001b[38;5;124m\"\u001b[39m\u001b[38;5;124mmyfitnesspal_calories.xlsx\u001b[39m\u001b[38;5;124m\"\u001b[39m\n\u001b[0;32m      5\u001b[0m \u001b[38;5;66;03m# ---- LOGIN ----\u001b[39;00m\n\u001b[1;32m----> 6\u001b[0m client \u001b[38;5;241m=\u001b[39m myfitnesspal\u001b[38;5;241m.\u001b[39mClient(\u001b[43mconfig\u001b[49m\u001b[38;5;241;43m.\u001b[39;49m\u001b[43mUSERNAME\u001b[49m, config\u001b[38;5;241m.\u001b[39mPASSWORD)\n\u001b[0;32m      8\u001b[0m \u001b[38;5;66;03m# ---- GET CALORIES ----\u001b[39;00m\n\u001b[0;32m      9\u001b[0m data \u001b[38;5;241m=\u001b[39m []\n",
      "\u001b[1;31mAttributeError\u001b[0m: module 'config' has no attribute 'USERNAME'"
     ]
    }
   ],
   "source": [
    "# ---- CONFIG ----\n",
    "DAYS_TO_PULL = 30  # how many past days to fetch\n",
    "OUTPUT_FILE = \"myfitnesspal_calories.xlsx\"\n",
    "\n",
    "# ---- LOGIN ----\n",
    "client = myfitnesspal.Client(config.USERNAME, config.PASSWORD)\n",
    "\n",
    "# ---- GET CALORIES ----\n",
    "data = []\n",
    "today = date.today()\n",
    "\n",
    "for i in range(DAYS_TO_PULL):\n",
    "    day = today - timedelta(days=i)\n",
    "    diary = client.get_date(day.year, day.month, day.day)\n",
    "    total_calories = diary.totals.get(\"calories\", 0)\n",
    "    data.append({\"Date\": day.strftime(\"%Y-%m-%d\"), \"Calories\": total_calories})\n",
    "\n",
    "# ---- SAVE TO EXCEL ----\n",
    "df = pd.DataFrame(data)\n",
    "df.sort_values(\"Date\", inplace=True)  # put in chronological order\n",
    "df.to_excel(OUTPUT_FILE, index=False)\n",
    "\n",
    "print(f\"✅ Saved {len(df)} days of calorie data to {OUTPUT_FILE}\")"
   ]
  },
  {
   "cell_type": "code",
   "execution_count": null,
   "id": "88d069e5",
   "metadata": {},
   "outputs": [],
   "source": []
  }
 ],
 "metadata": {
  "kernelspec": {
   "display_name": "dev",
   "language": "python",
   "name": "python3"
  },
  "language_info": {
   "codemirror_mode": {
    "name": "ipython",
    "version": 3
   },
   "file_extension": ".py",
   "mimetype": "text/x-python",
   "name": "python",
   "nbconvert_exporter": "python",
   "pygments_lexer": "ipython3",
   "version": "3.10.11"
  }
 },
 "nbformat": 4,
 "nbformat_minor": 5
}
